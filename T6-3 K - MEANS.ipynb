{
 "cells": [
  {
   "cell_type": "markdown",
   "metadata": {},
   "source": [
    "# Metodo K-means"
   ]
  },
  {
   "cell_type": "code",
   "execution_count": 1,
   "metadata": {},
   "outputs": [],
   "source": [
    "import pandas as pd\n",
    "import numpy as np\n"
   ]
  },
  {
   "cell_type": "code",
   "execution_count": 6,
   "metadata": {},
   "outputs": [],
   "source": [
    "data = np.random.random(90).reshape(30,3)"
   ]
  },
  {
   "cell_type": "code",
   "execution_count": 7,
   "metadata": {},
   "outputs": [
    {
     "data": {
      "text/plain": [
       "array([[0.77204015, 0.71516986, 0.74818819],\n",
       "       [0.69158648, 0.92620023, 0.5921254 ],\n",
       "       [0.6139207 , 0.12373595, 0.70610309],\n",
       "       [0.40828132, 0.11909359, 0.29580933],\n",
       "       [0.67076581, 0.04507363, 0.10820228],\n",
       "       [0.40192044, 0.48950808, 0.08373332],\n",
       "       [0.5968308 , 0.4589713 , 0.00336564],\n",
       "       [0.07865267, 0.20303417, 0.71867824],\n",
       "       [0.80393493, 0.77270446, 0.12674588],\n",
       "       [0.6064449 , 0.08820127, 0.47781525],\n",
       "       [0.3026056 , 0.33681683, 0.14037296],\n",
       "       [0.11321879, 0.68348109, 0.70679022],\n",
       "       [0.03160367, 0.15987328, 0.50275774],\n",
       "       [0.55717743, 0.01347939, 0.25269863],\n",
       "       [0.012513  , 0.5300534 , 0.62665662],\n",
       "       [0.11089645, 0.26472003, 0.2588675 ],\n",
       "       [0.59691489, 0.01069692, 0.84309852],\n",
       "       [0.36993484, 0.19302323, 0.51300946],\n",
       "       [0.69549476, 0.73491385, 0.85368107],\n",
       "       [0.740521  , 0.13993042, 0.86125496],\n",
       "       [0.63014969, 0.02974784, 0.48887942],\n",
       "       [0.96725991, 0.71472015, 0.51839636],\n",
       "       [0.46405822, 0.61336758, 0.42318309],\n",
       "       [0.80200415, 0.24161862, 0.23313212],\n",
       "       [0.83496988, 0.76335012, 0.78799096],\n",
       "       [0.62223056, 0.76375715, 0.57398098],\n",
       "       [0.46989916, 0.37749252, 0.62821781],\n",
       "       [0.11707523, 0.62298778, 0.68563382],\n",
       "       [0.43595473, 0.86916317, 0.72660467],\n",
       "       [0.32489155, 0.36374545, 0.86242048]])"
      ]
     },
     "execution_count": 7,
     "metadata": {},
     "output_type": "execute_result"
    }
   ],
   "source": [
    "data"
   ]
  },
  {
   "cell_type": "code",
   "execution_count": null,
   "metadata": {},
   "outputs": [],
   "source": []
  },
  {
   "cell_type": "code",
   "execution_count": 12,
   "metadata": {},
   "outputs": [],
   "source": [
    "c1 = np.random.choice(range(len(data)))\n",
    "c2 = np.random.choice(range(len(data)))\n",
    "clust_center = np.vstack([data[c1], data[c2]])"
   ]
  },
  {
   "cell_type": "code",
   "execution_count": 13,
   "metadata": {},
   "outputs": [
    {
     "data": {
      "text/plain": [
       "array([[0.012513  , 0.5300534 , 0.62665662],\n",
       "       [0.96725991, 0.71472015, 0.51839636]])"
      ]
     },
     "execution_count": 13,
     "metadata": {},
     "output_type": "execute_result"
    }
   ],
   "source": [
    "clust_center"
   ]
  },
  {
   "cell_type": "code",
   "execution_count": 14,
   "metadata": {},
   "outputs": [
    {
     "data": {
      "text/plain": [
       "21"
      ]
     },
     "execution_count": 14,
     "metadata": {},
     "output_type": "execute_result"
    }
   ],
   "source": [
    "c1\n",
    "c2"
   ]
  },
  {
   "cell_type": "code",
   "execution_count": 15,
   "metadata": {},
   "outputs": [
    {
     "data": {
      "text/plain": [
       "14"
      ]
     },
     "execution_count": 15,
     "metadata": {},
     "output_type": "execute_result"
    }
   ],
   "source": [
    "c1"
   ]
  },
  {
   "cell_type": "code",
   "execution_count": 16,
   "metadata": {},
   "outputs": [],
   "source": [
    "from scipy.cluster.vq import vq"
   ]
  },
  {
   "cell_type": "code",
   "execution_count": 17,
   "metadata": {},
   "outputs": [
    {
     "data": {
      "text/plain": [
       "(array([1, 1, 1, 0, 1, 0, 1, 0, 1, 1, 0, 0, 0, 0, 0, 0, 0, 0, 1, 1, 1, 1,\n",
       "        0, 1, 1, 1, 0, 0, 0, 0]),\n",
       " array([0.30152154, 0.35518394, 0.71368392, 0.65953048, 0.83940122,\n",
       "        0.66936371, 0.6840189 , 0.34609827, 0.42828416, 0.72412721,\n",
       "        0.5983025 , 0.2002576 , 0.39083079, 0.83866121, 0.        ,\n",
       "        0.46405812, 0.81123598, 0.50423742, 0.43206472, 0.70664404,\n",
       "        0.76400368, 0.        , 0.50223084, 0.57663698, 0.30421501,\n",
       "        0.35290159, 0.48216113, 0.15181689, 0.55162301, 0.42523322]))"
      ]
     },
     "execution_count": 17,
     "metadata": {},
     "output_type": "execute_result"
    }
   ],
   "source": [
    "vq(data, clust_center)"
   ]
  },
  {
   "cell_type": "code",
   "execution_count": 18,
   "metadata": {},
   "outputs": [],
   "source": [
    "from scipy.cluster.vq import kmeans"
   ]
  },
  {
   "cell_type": "code",
   "execution_count": 21,
   "metadata": {},
   "outputs": [
    {
     "data": {
      "text/plain": [
       "(array([[0.40743915, 0.26168023, 0.4760713 ],\n",
       "        [0.6986144 , 0.76370518, 0.59454406]]), 0.3536669601897121)"
      ]
     },
     "execution_count": 21,
     "metadata": {},
     "output_type": "execute_result"
    }
   ],
   "source": [
    "kmeans(data, clust_center)"
   ]
  },
  {
   "cell_type": "code",
   "execution_count": 23,
   "metadata": {},
   "outputs": [
    {
     "data": {
      "text/plain": [
       "(array([[0.11089645, 0.26472003, 0.2588675 ],\n",
       "        [0.03160367, 0.15987328, 0.50275774],\n",
       "        [0.32489155, 0.36374545, 0.86242048],\n",
       "        [0.80200415, 0.24161862, 0.23313212],\n",
       "        [0.41603844, 0.22986978, 0.4790122 ],\n",
       "        [0.07865267, 0.20303417, 0.71867824],\n",
       "        [0.012513  , 0.5300534 , 0.62665662],\n",
       "        [0.80393493, 0.77270446, 0.12674588],\n",
       "        [0.3026056 , 0.33681683, 0.14037296],\n",
       "        [0.7675016 , 0.73781128, 0.79662007],\n",
       "        [0.65690852, 0.84497869, 0.58305319],\n",
       "        [0.96725991, 0.71472015, 0.51839636],\n",
       "        [0.46405822, 0.61336758, 0.42318309],\n",
       "        [0.5968308 , 0.4589713 , 0.00336564],\n",
       "        [0.43595473, 0.86916317, 0.72660467],\n",
       "        [0.40192044, 0.48950808, 0.08373332],\n",
       "        [0.6504522 , 0.09145443, 0.80348552],\n",
       "        [0.61829729, 0.05897456, 0.48334733],\n",
       "        [0.61397162, 0.02927651, 0.18045046],\n",
       "        [0.11514701, 0.65323443, 0.69621202]]), 0.051353676184907576)"
      ]
     },
     "execution_count": 23,
     "metadata": {},
     "output_type": "execute_result"
    }
   ],
   "source": [
    "kmeans(data , 20)"
   ]
  },
  {
   "cell_type": "code",
   "execution_count": null,
   "metadata": {},
   "outputs": [],
   "source": []
  }
 ],
 "metadata": {
  "kernelspec": {
   "display_name": "Python 3",
   "language": "python",
   "name": "python3"
  },
  "language_info": {
   "codemirror_mode": {
    "name": "ipython",
    "version": 3
   },
   "file_extension": ".py",
   "mimetype": "text/x-python",
   "name": "python",
   "nbconvert_exporter": "python",
   "pygments_lexer": "ipython3",
   "version": "3.7.4"
  }
 },
 "nbformat": 4,
 "nbformat_minor": 2
}
